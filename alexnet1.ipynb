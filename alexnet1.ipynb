{
 "cells": [
  {
   "cell_type": "code",
   "execution_count": 2,
   "id": "993f8d14",
   "metadata": {},
   "outputs": [
    {
     "name": "stdout",
     "output_type": "stream",
     "text": [
      "Collecting torch\n",
      "  Downloading torch-2.6.0-cp312-cp312-win_amd64.whl.metadata (28 kB)\n",
      "Collecting torchvision\n",
      "  Downloading torchvision-0.21.0-cp312-cp312-win_amd64.whl.metadata (6.3 kB)\n",
      "Requirement already satisfied: filelock in c:\\users\\adityagh\\anaconda3\\lib\\site-packages (from torch) (3.13.1)\n",
      "Requirement already satisfied: typing-extensions>=4.10.0 in c:\\users\\adityagh\\anaconda3\\lib\\site-packages (from torch) (4.11.0)\n",
      "Requirement already satisfied: networkx in c:\\users\\adityagh\\anaconda3\\lib\\site-packages (from torch) (3.3)\n",
      "Requirement already satisfied: jinja2 in c:\\users\\adityagh\\anaconda3\\lib\\site-packages (from torch) (3.1.4)\n",
      "Requirement already satisfied: fsspec in c:\\users\\adityagh\\anaconda3\\lib\\site-packages (from torch) (2024.6.1)\n",
      "Requirement already satisfied: setuptools in c:\\users\\adityagh\\anaconda3\\lib\\site-packages (from torch) (75.1.0)\n",
      "Collecting sympy==1.13.1 (from torch)\n",
      "  Downloading sympy-1.13.1-py3-none-any.whl.metadata (12 kB)\n",
      "Requirement already satisfied: mpmath<1.4,>=1.1.0 in c:\\users\\adityagh\\anaconda3\\lib\\site-packages (from sympy==1.13.1->torch) (1.3.0)\n",
      "Requirement already satisfied: numpy in c:\\users\\adityagh\\anaconda3\\lib\\site-packages (from torchvision) (1.26.4)\n",
      "Requirement already satisfied: pillow!=8.3.*,>=5.3.0 in c:\\users\\adityagh\\anaconda3\\lib\\site-packages (from torchvision) (10.4.0)\n",
      "Requirement already satisfied: MarkupSafe>=2.0 in c:\\users\\adityagh\\anaconda3\\lib\\site-packages (from jinja2->torch) (2.1.3)\n",
      "Downloading torch-2.6.0-cp312-cp312-win_amd64.whl (204.1 MB)\n",
      "   ---------------------------------------- 0.0/204.1 MB ? eta -:--:--\n",
      "   ---------------------------------------- 1.0/204.1 MB 8.5 MB/s eta 0:00:25\n",
      "    --------------------------------------- 2.6/204.1 MB 8.4 MB/s eta 0:00:24\n",
      "    --------------------------------------- 4.7/204.1 MB 8.7 MB/s eta 0:00:24\n",
      "   - -------------------------------------- 7.1/204.1 MB 9.5 MB/s eta 0:00:21\n",
      "   -- ------------------------------------- 10.2/204.1 MB 10.8 MB/s eta 0:00:18\n",
      "   -- ------------------------------------- 14.2/204.1 MB 12.0 MB/s eta 0:00:16\n",
      "   --- ------------------------------------ 18.9/204.1 MB 13.7 MB/s eta 0:00:14\n",
      "   ---- ----------------------------------- 23.9/204.1 MB 15.1 MB/s eta 0:00:12\n",
      "   ----- ---------------------------------- 30.1/204.1 MB 16.9 MB/s eta 0:00:11\n",
      "   ------ --------------------------------- 35.7/204.1 MB 18.1 MB/s eta 0:00:10\n",
      "   -------- ------------------------------- 42.5/204.1 MB 19.4 MB/s eta 0:00:09\n",
      "   --------- ------------------------------ 50.1/204.1 MB 21.0 MB/s eta 0:00:08\n",
      "   ----------- ---------------------------- 56.6/204.1 MB 21.7 MB/s eta 0:00:07\n",
      "   ------------ --------------------------- 63.2/204.1 MB 22.5 MB/s eta 0:00:07\n",
      "   ------------- -------------------------- 71.3/204.1 MB 23.6 MB/s eta 0:00:06\n",
      "   --------------- ------------------------ 77.3/204.1 MB 23.9 MB/s eta 0:00:06\n",
      "   ---------------- ----------------------- 85.2/204.1 MB 24.8 MB/s eta 0:00:05\n",
      "   ------------------ --------------------- 93.1/204.1 MB 25.6 MB/s eta 0:00:05\n",
      "   ------------------- ------------------- 101.7/204.1 MB 26.5 MB/s eta 0:00:04\n",
      "   --------------------- ----------------- 110.4/204.1 MB 27.3 MB/s eta 0:00:04\n",
      "   ---------------------- ---------------- 119.0/204.1 MB 27.9 MB/s eta 0:00:04\n",
      "   ------------------------ -------------- 127.1/204.1 MB 28.4 MB/s eta 0:00:03\n",
      "   ------------------------- ------------- 133.7/204.1 MB 28.7 MB/s eta 0:00:03\n",
      "   -------------------------- ------------ 141.0/204.1 MB 28.9 MB/s eta 0:00:03\n",
      "   ---------------------------- ---------- 148.6/204.1 MB 29.2 MB/s eta 0:00:02\n",
      "   ----------------------------- --------- 156.8/204.1 MB 29.6 MB/s eta 0:00:02\n",
      "   ------------------------------- ------- 164.1/204.1 MB 29.8 MB/s eta 0:00:02\n",
      "   -------------------------------- ------ 171.7/204.1 MB 30.1 MB/s eta 0:00:02\n",
      "   ---------------------------------- ---- 179.3/204.1 MB 30.2 MB/s eta 0:00:01\n",
      "   ----------------------------------- --- 185.9/204.1 MB 30.3 MB/s eta 0:00:01\n",
      "   ------------------------------------ -- 192.7/204.1 MB 30.4 MB/s eta 0:00:01\n",
      "   --------------------------------------  199.5/204.1 MB 30.5 MB/s eta 0:00:01\n",
      "   --------------------------------------  203.9/204.1 MB 30.7 MB/s eta 0:00:01\n",
      "   --------------------------------------  203.9/204.1 MB 30.7 MB/s eta 0:00:01\n",
      "   --------------------------------------- 204.1/204.1 MB 29.2 MB/s eta 0:00:00\n",
      "Downloading sympy-1.13.1-py3-none-any.whl (6.2 MB)\n",
      "   ---------------------------------------- 0.0/6.2 MB ? eta -:--:--\n",
      "   -------------------------------------- - 6.0/6.2 MB 37.0 MB/s eta 0:00:01\n",
      "   ---------------------------------------- 6.2/6.2 MB 29.2 MB/s eta 0:00:00\n",
      "Downloading torchvision-0.21.0-cp312-cp312-win_amd64.whl (1.6 MB)\n",
      "   ---------------------------------------- 0.0/1.6 MB ? eta -:--:--\n",
      "   ---------------------------------------- 1.6/1.6 MB 27.6 MB/s eta 0:00:00\n",
      "Installing collected packages: sympy, torch, torchvision\n",
      "  Attempting uninstall: sympy\n",
      "    Found existing installation: sympy 1.13.2\n",
      "    Uninstalling sympy-1.13.2:\n",
      "      Successfully uninstalled sympy-1.13.2\n",
      "Successfully installed sympy-1.13.1 torch-2.6.0 torchvision-0.21.0\n"
     ]
    }
   ],
   "source": [
    "!pip install torch torchvision\n"
   ]
  },
  {
   "cell_type": "code",
   "execution_count": null,
   "id": "a5296ea1",
   "metadata": {},
   "outputs": [
    {
     "data": {
      "text/plain": [
       "AlexNet(\n",
       "  (features): Sequential(\n",
       "    (0): Conv2d(3, 64, kernel_size=(11, 11), stride=(4, 4), padding=(2, 2))\n",
       "    (1): ReLU(inplace=True)\n",
       "    (2): MaxPool2d(kernel_size=3, stride=2, padding=0, dilation=1, ceil_mode=False)\n",
       "    (3): Conv2d(64, 192, kernel_size=(5, 5), stride=(1, 1), padding=(2, 2))\n",
       "    (4): ReLU(inplace=True)\n",
       "    (5): MaxPool2d(kernel_size=3, stride=2, padding=0, dilation=1, ceil_mode=False)\n",
       "    (6): Conv2d(192, 384, kernel_size=(3, 3), stride=(1, 1), padding=(1, 1))\n",
       "    (7): ReLU(inplace=True)\n",
       "    (8): Conv2d(384, 256, kernel_size=(3, 3), stride=(1, 1), padding=(1, 1))\n",
       "    (9): ReLU(inplace=True)\n",
       "    (10): Conv2d(256, 256, kernel_size=(3, 3), stride=(1, 1), padding=(1, 1))\n",
       "    (11): ReLU(inplace=True)\n",
       "    (12): MaxPool2d(kernel_size=3, stride=2, padding=0, dilation=1, ceil_mode=False)\n",
       "  )\n",
       "  (avgpool): AdaptiveAvgPool2d(output_size=(6, 6))\n",
       "  (classifier): Sequential(\n",
       "    (0): Dropout(p=0.5, inplace=False)\n",
       "    (1): Linear(in_features=9216, out_features=4096, bias=True)\n",
       "    (2): ReLU(inplace=True)\n",
       "    (3): Dropout(p=0.5, inplace=False)\n",
       "    (4): Linear(in_features=4096, out_features=4096, bias=True)\n",
       "    (5): ReLU(inplace=True)\n",
       "    (6): Linear(in_features=4096, out_features=5, bias=True)\n",
       "  )\n",
       ")"
      ]
     },
     "execution_count": 7,
     "metadata": {},
     "output_type": "execute_result"
    }
   ],
   "source": [
    "import torch\n",
    "import torch.nn as nn\n",
    "import torchvision.models as models\n",
    "\n",
    "# 1. Load base AlexNet\n",
    "model = models.alexnet()\n",
    "\n",
    "# 2. Modify classifier to match model's output size (5 classes)\n",
    "model.classifier[6] = nn.Linear(in_features=4096, out_features=5)\n",
    "\n",
    "# 3. Load the state_dict\n",
    "state_dict = torch.load(\n",
    "    \"C:/Users/Adityagh/OneDrive/Desktop/AIMI Project/Medical-Image-Diagnosis-using-Convolutional-Neural-Networks/alexnet.pth\",\n",
    "    map_location=torch.device('cpu')\n",
    ")\n",
    "model.load_state_dict(state_dict)\n",
    "\n",
    "# 4. Set to eval mode\n",
    "model.eval()\n"
   ]
  },
  {
   "cell_type": "code",
   "execution_count": 33,
   "id": "cf545cba",
   "metadata": {},
   "outputs": [
    {
     "name": "stdout",
     "output_type": "stream",
     "text": [
      "Predicted class index: 4\n",
      "Predicted label: viralpneumonia\n"
     ]
    }
   ],
   "source": [
    "from PIL import Image\n",
    "from torchvision import transforms\n",
    "import torch\n",
    "\n",
    "# Load and preprocess image\n",
    "img_path = r\"C:/Users/Adityagh/OneDrive/Desktop/AIMI Project/Medical-Image-Diagnosis-using-Convolutional-Neural-Networks/photos/Viral Pneumonia-1239.png\"  # change this to your image path\n",
    "image = Image.open(img_path).convert(\"RGB\")\n",
    "\n",
    "transform = transforms.Compose([\n",
    "    transforms.Resize((224, 224)),  # AlexNet 224x224 images\n",
    "    transforms.ToTensor(),\n",
    "    transforms.Normalize(mean=[0.485, 0.456, 0.406],  # Standard for pretrained ImageNet models\n",
    "                         std=[0.229, 0.224, 0.225])\n",
    "])\n",
    "\n",
    "input_tensor = transform(image).unsqueeze(0)  # add batch dimension\n",
    "\n",
    "# Run through model\n",
    "model.eval()\n",
    "with torch.no_grad():\n",
    "    output = model(input_tensor)\n",
    "    predicted_class = torch.argmax(output, dim=1).item()\n",
    "\n",
    "print(\"Predicted class index:\", predicted_class)\n",
    "class_names = [\"covid19\", \"lungopacity\", \"normal\", \"tuberculosis\", \"viralpneumonia\"]\n",
    "print(\"Predicted label:\", class_names[predicted_class])\n",
    "\n"
   ]
  }
 ],
 "metadata": {
  "kernelspec": {
   "display_name": "base",
   "language": "python",
   "name": "python3"
  },
  "language_info": {
   "codemirror_mode": {
    "name": "ipython",
    "version": 3
   },
   "file_extension": ".py",
   "mimetype": "text/x-python",
   "name": "python",
   "nbconvert_exporter": "python",
   "pygments_lexer": "ipython3",
   "version": "3.12.7"
  }
 },
 "nbformat": 4,
 "nbformat_minor": 5
}
